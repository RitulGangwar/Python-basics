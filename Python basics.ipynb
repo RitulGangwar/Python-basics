{
 "cells": [
  {
   "cell_type": "code",
   "execution_count": 4,
   "id": "fd8beae5-7c8c-47ae-b6b4-1a827cb04821",
   "metadata": {},
   "outputs": [
    {
     "data": {
      "text/plain": [
       "2"
      ]
     },
     "execution_count": 4,
     "metadata": {},
     "output_type": "execute_result"
    }
   ],
   "source": [
    "1+1"
   ]
  },
  {
   "cell_type": "code",
   "execution_count": 5,
   "id": "fccaa0d2-8806-4920-abb3-1afb26f4350d",
   "metadata": {},
   "outputs": [],
   "source": [
    "ritul=17"
   ]
  },
  {
   "cell_type": "code",
   "execution_count": 6,
   "id": "d053274e-2291-4fe7-b56c-c8dec8188f16",
   "metadata": {},
   "outputs": [
    {
     "data": {
      "text/plain": [
       "17"
      ]
     },
     "execution_count": 6,
     "metadata": {},
     "output_type": "execute_result"
    }
   ],
   "source": [
    "ritul\n"
   ]
  },
  {
   "cell_type": "code",
   "execution_count": 7,
   "id": "4a83894d-3251-4969-8394-f953498aa51a",
   "metadata": {},
   "outputs": [
    {
     "data": {
      "text/plain": [
       "17"
      ]
     },
     "execution_count": 7,
     "metadata": {},
     "output_type": "execute_result"
    }
   ],
   "source": [
    "17"
   ]
  },
  {
   "cell_type": "code",
   "execution_count": 8,
   "id": "176e75ca-f049-432e-afe7-ca7de2be6855",
   "metadata": {},
   "outputs": [
    {
     "data": {
      "text/plain": [
       "int"
      ]
     },
     "execution_count": 8,
     "metadata": {},
     "output_type": "execute_result"
    }
   ],
   "source": [
    "type(ritul)"
   ]
  },
  {
   "cell_type": "code",
   "execution_count": 9,
   "id": "2f9e7708-dee1-42d6-9e71-adb3fe432d31",
   "metadata": {},
   "outputs": [],
   "source": [
    "b=1.44"
   ]
  },
  {
   "cell_type": "code",
   "execution_count": 10,
   "id": "66312fd7-4be1-45a0-a96d-84b151f02bb8",
   "metadata": {},
   "outputs": [
    {
     "data": {
      "text/plain": [
       "float"
      ]
     },
     "execution_count": 10,
     "metadata": {},
     "output_type": "execute_result"
    }
   ],
   "source": [
    "type(b)"
   ]
  },
  {
   "cell_type": "code",
   "execution_count": 11,
   "id": "1a7fc14e-68d3-4051-9a88-3bd3080215cf",
   "metadata": {},
   "outputs": [
    {
     "data": {
      "text/plain": [
       "1.44"
      ]
     },
     "execution_count": 11,
     "metadata": {},
     "output_type": "execute_result"
    }
   ],
   "source": [
    "b"
   ]
  },
  {
   "cell_type": "code",
   "execution_count": 12,
   "id": "f63e492e-4621-4e95-8eec-ecf034b83edd",
   "metadata": {},
   "outputs": [],
   "source": [
    "c=\"Bharti\""
   ]
  },
  {
   "cell_type": "code",
   "execution_count": 13,
   "id": "374fc9db-3a53-4255-8a0b-8858b9161565",
   "metadata": {},
   "outputs": [
    {
     "data": {
      "text/plain": [
       "str"
      ]
     },
     "execution_count": 13,
     "metadata": {},
     "output_type": "execute_result"
    }
   ],
   "source": [
    "type(c)"
   ]
  },
  {
   "cell_type": "code",
   "execution_count": 14,
   "id": "6ae9e7e2-83a2-4715-9a7f-829815b0a364",
   "metadata": {},
   "outputs": [
    {
     "data": {
      "text/plain": [
       "'Bharti'"
      ]
     },
     "execution_count": 14,
     "metadata": {},
     "output_type": "execute_result"
    }
   ],
   "source": [
    "c"
   ]
  },
  {
   "cell_type": "code",
   "execution_count": 15,
   "id": "ea5a342d-32cc-40fa-be1e-c9474da1d0fc",
   "metadata": {},
   "outputs": [],
   "source": [
    "p= True"
   ]
  },
  {
   "cell_type": "code",
   "execution_count": 17,
   "id": "b2eda2e6-0265-41e3-9c5d-c60387cec79c",
   "metadata": {},
   "outputs": [],
   "source": [
    "q= False"
   ]
  },
  {
   "cell_type": "code",
   "execution_count": 19,
   "id": "c6cc97df-7b4f-4b88-ba84-6ebf576ca9e7",
   "metadata": {},
   "outputs": [
    {
     "data": {
      "text/plain": [
       "bool"
      ]
     },
     "execution_count": 19,
     "metadata": {},
     "output_type": "execute_result"
    }
   ],
   "source": [
    "type(p)"
   ]
  },
  {
   "cell_type": "code",
   "execution_count": 20,
   "id": "2b0ca814-c1d3-4c57-9696-9e2a0c5ba956",
   "metadata": {},
   "outputs": [
    {
     "data": {
      "text/plain": [
       "bool"
      ]
     },
     "execution_count": 20,
     "metadata": {},
     "output_type": "execute_result"
    }
   ],
   "source": [
    "type(q)"
   ]
  },
  {
   "cell_type": "code",
   "execution_count": 21,
   "id": "9e62ec09-286d-46b1-bedd-272c3dff4bc0",
   "metadata": {},
   "outputs": [
    {
     "data": {
      "text/plain": [
       "1"
      ]
     },
     "execution_count": 21,
     "metadata": {},
     "output_type": "execute_result"
    }
   ],
   "source": [
    "p+q"
   ]
  },
  {
   "cell_type": "code",
   "execution_count": 22,
   "id": "454395c9-3a39-4a51-87b3-246d551198a6",
   "metadata": {},
   "outputs": [
    {
     "ename": "ZeroDivisionError",
     "evalue": "division by zero",
     "output_type": "error",
     "traceback": [
      "\u001b[0;31m---------------------------------------------------------------------------\u001b[0m",
      "\u001b[0;31mZeroDivisionError\u001b[0m                         Traceback (most recent call last)",
      "Cell \u001b[0;32mIn[22], line 1\u001b[0m\n\u001b[0;32m----> 1\u001b[0m \u001b[43mp\u001b[49m\u001b[38;5;241;43m/\u001b[39;49m\u001b[43mq\u001b[49m\n",
      "\u001b[0;31mZeroDivisionError\u001b[0m: division by zero"
     ]
    }
   ],
   "source": [
    "p/q"
   ]
  },
  {
   "cell_type": "code",
   "execution_count": 23,
   "id": "7007073e-3567-4636-9aff-87cf5da28a75",
   "metadata": {},
   "outputs": [
    {
     "data": {
      "text/plain": [
       "0"
      ]
     },
     "execution_count": 23,
     "metadata": {},
     "output_type": "execute_result"
    }
   ],
   "source": [
    "p*q"
   ]
  },
  {
   "cell_type": "code",
   "execution_count": 24,
   "id": "43b6069e-6e60-4ac5-8eb6-3c55e3a9ddc6",
   "metadata": {},
   "outputs": [
    {
     "data": {
      "text/plain": [
       "1"
      ]
     },
     "execution_count": 24,
     "metadata": {},
     "output_type": "execute_result"
    }
   ],
   "source": [
    "p+q"
   ]
  },
  {
   "cell_type": "code",
   "execution_count": 25,
   "id": "750dce06-abeb-4b10-9f68-232cd46d637d",
   "metadata": {},
   "outputs": [
    {
     "data": {
      "text/plain": [
       "1"
      ]
     },
     "execution_count": 25,
     "metadata": {},
     "output_type": "execute_result"
    }
   ],
   "source": [
    "p-q"
   ]
  },
  {
   "cell_type": "code",
   "execution_count": 26,
   "id": "4b5b2f18-9610-4201-8ca0-0f73836b80a6",
   "metadata": {},
   "outputs": [
    {
     "data": {
      "text/plain": [
       "0.0"
      ]
     },
     "execution_count": 26,
     "metadata": {},
     "output_type": "execute_result"
    }
   ],
   "source": [
    "q/p"
   ]
  },
  {
   "cell_type": "code",
   "execution_count": 27,
   "id": "4a70fd58-9111-498f-9431-c4d967cd9990",
   "metadata": {},
   "outputs": [],
   "source": [
    "ritul=1708+5j"
   ]
  },
  {
   "cell_type": "code",
   "execution_count": 28,
   "id": "a9c5234a-3693-479e-8626-cd446ccbb0db",
   "metadata": {},
   "outputs": [
    {
     "data": {
      "text/plain": [
       "1708.0"
      ]
     },
     "execution_count": 28,
     "metadata": {},
     "output_type": "execute_result"
    }
   ],
   "source": [
    "ritul.real"
   ]
  },
  {
   "cell_type": "code",
   "execution_count": 30,
   "id": "8a3eae5a-070f-4c09-954e-2e5946454a25",
   "metadata": {},
   "outputs": [
    {
     "data": {
      "text/plain": [
       "complex"
      ]
     },
     "execution_count": 30,
     "metadata": {},
     "output_type": "execute_result"
    }
   ],
   "source": [
    "type(ritul)"
   ]
  },
  {
   "cell_type": "code",
   "execution_count": 32,
   "id": "348c62b8-16a6-4ece-9149-f16b06533f01",
   "metadata": {},
   "outputs": [
    {
     "data": {
      "text/plain": [
       "5.0"
      ]
     },
     "execution_count": 32,
     "metadata": {},
     "output_type": "execute_result"
    }
   ],
   "source": [
    "ritul.imag"
   ]
  },
  {
   "cell_type": "code",
   "execution_count": 33,
   "id": "05703492-1b75-4421-b6a2-9e3a1fcb8734",
   "metadata": {},
   "outputs": [
    {
     "name": "stdout",
     "output_type": "stream",
     "text": [
      "(1708+5j)\n"
     ]
    }
   ],
   "source": [
    "print(ritul)"
   ]
  },
  {
   "cell_type": "code",
   "execution_count": 35,
   "id": "6260788a-ca2c-4f99-819d-e0a18f497b4b",
   "metadata": {},
   "outputs": [
    {
     "name": "stdout",
     "output_type": "stream",
     "text": [
      "Bharti\n"
     ]
    }
   ],
   "source": [
    "print(c)"
   ]
  },
  {
   "cell_type": "code",
   "execution_count": 3,
   "id": "00348475-923d-4d6b-a947-c4322ed8b855",
   "metadata": {},
   "outputs": [],
   "source": [
    "r=\"hello\""
   ]
  },
  {
   "cell_type": "code",
   "execution_count": 37,
   "id": "7ba9ed09-643d-4e66-9ec0-7dd6d5ae2017",
   "metadata": {},
   "outputs": [
    {
     "data": {
      "text/plain": [
       "'e'"
      ]
     },
     "execution_count": 37,
     "metadata": {},
     "output_type": "execute_result"
    }
   ],
   "source": [
    "r[1]"
   ]
  },
  {
   "cell_type": "code",
   "execution_count": 38,
   "id": "dfc875e1-af66-4ff4-bd7d-e915b043dbb7",
   "metadata": {},
   "outputs": [
    {
     "data": {
      "text/plain": [
       "'o'"
      ]
     },
     "execution_count": 38,
     "metadata": {},
     "output_type": "execute_result"
    }
   ],
   "source": [
    "r[4]"
   ]
  },
  {
   "cell_type": "code",
   "execution_count": 39,
   "id": "82e8a568-e828-4620-bb94-706e889aa359",
   "metadata": {},
   "outputs": [
    {
     "data": {
      "text/plain": [
       "'e'"
      ]
     },
     "execution_count": 39,
     "metadata": {},
     "output_type": "execute_result"
    }
   ],
   "source": [
    "r[-4]"
   ]
  },
  {
   "cell_type": "code",
   "execution_count": 41,
   "id": "6a203471-0ba7-429c-b818-d77b5e2e92f6",
   "metadata": {},
   "outputs": [
    {
     "data": {
      "text/plain": [
       "'hell'"
      ]
     },
     "execution_count": 41,
     "metadata": {},
     "output_type": "execute_result"
    }
   ],
   "source": [
    "r[0:4]"
   ]
  },
  {
   "cell_type": "code",
   "execution_count": 42,
   "id": "1a1dd1c4-d9c1-4c17-abf3-eb17a841e371",
   "metadata": {},
   "outputs": [
    {
     "data": {
      "text/plain": [
       "'hel'"
      ]
     },
     "execution_count": 42,
     "metadata": {},
     "output_type": "execute_result"
    }
   ],
   "source": [
    "r[-5:-2]"
   ]
  },
  {
   "cell_type": "code",
   "execution_count": 4,
   "id": "9a6c6e1a-182b-48c9-8263-c4d6715aad41",
   "metadata": {
    "tags": []
   },
   "outputs": [
    {
     "data": {
      "text/plain": [
       "'hel'"
      ]
     },
     "execution_count": 4,
     "metadata": {},
     "output_type": "execute_result"
    }
   ],
   "source": [
    "r[0:3]"
   ]
  },
  {
   "cell_type": "code",
   "execution_count": 5,
   "id": "5296940b-fb19-416c-81c8-809974fc4444",
   "metadata": {},
   "outputs": [
    {
     "data": {
      "text/plain": [
       "'hlo'"
      ]
     },
     "execution_count": 5,
     "metadata": {},
     "output_type": "execute_result"
    }
   ],
   "source": [
    "r[0:5:2]"
   ]
  },
  {
   "cell_type": "code",
   "execution_count": 6,
   "id": "62b4f0e5-a931-4bbe-9aec-641fd76f2a1b",
   "metadata": {},
   "outputs": [
    {
     "data": {
      "text/plain": [
       "'hl'"
      ]
     },
     "execution_count": 6,
     "metadata": {},
     "output_type": "execute_result"
    }
   ],
   "source": [
    "r[0:5:3]"
   ]
  },
  {
   "cell_type": "code",
   "execution_count": 7,
   "id": "9fd94c1a-c110-4061-946d-2c4fcff31c5c",
   "metadata": {},
   "outputs": [
    {
     "data": {
      "text/plain": [
       "'eo'"
      ]
     },
     "execution_count": 7,
     "metadata": {},
     "output_type": "execute_result"
    }
   ],
   "source": [
    "r[1:5:3]"
   ]
  },
  {
   "cell_type": "code",
   "execution_count": 8,
   "id": "037c72ff-aa79-446b-84d8-cbce4eb485d5",
   "metadata": {},
   "outputs": [
    {
     "data": {
      "text/plain": [
       "'hello'"
      ]
     },
     "execution_count": 8,
     "metadata": {},
     "output_type": "execute_result"
    }
   ],
   "source": [
    "r[::1]"
   ]
  },
  {
   "cell_type": "code",
   "execution_count": 9,
   "id": "0b2baf9b-cf26-4582-8079-79a1266cf9d8",
   "metadata": {},
   "outputs": [
    {
     "data": {
      "text/plain": [
       "'hlo'"
      ]
     },
     "execution_count": 9,
     "metadata": {},
     "output_type": "execute_result"
    }
   ],
   "source": [
    "r[::2]"
   ]
  },
  {
   "cell_type": "code",
   "execution_count": 10,
   "id": "a1443b4e-e5ee-4939-ab5a-b5f968d2bc77",
   "metadata": {},
   "outputs": [
    {
     "data": {
      "text/plain": [
       "'el'"
      ]
     },
     "execution_count": 10,
     "metadata": {},
     "output_type": "execute_result"
    }
   ],
   "source": [
    "r[1::2]"
   ]
  },
  {
   "cell_type": "code",
   "execution_count": 11,
   "id": "91c4ae8e-2466-406a-8b0d-249c223dc1c2",
   "metadata": {},
   "outputs": [
    {
     "data": {
      "text/plain": [
       "''"
      ]
     },
     "execution_count": 11,
     "metadata": {},
     "output_type": "execute_result"
    }
   ],
   "source": [
    "r[0:5:-1]"
   ]
  },
  {
   "cell_type": "code",
   "execution_count": 12,
   "id": "11003536-7a8d-4e71-a6b2-50ccb1b5e583",
   "metadata": {},
   "outputs": [
    {
     "data": {
      "text/plain": [
       "'olle'"
      ]
     },
     "execution_count": 12,
     "metadata": {},
     "output_type": "execute_result"
    }
   ],
   "source": [
    "r[5:0:-1]"
   ]
  },
  {
   "cell_type": "code",
   "execution_count": 13,
   "id": "fde4c623-8447-41aa-a7bd-f1140589cd4f",
   "metadata": {},
   "outputs": [
    {
     "data": {
      "text/plain": [
       "''"
      ]
     },
     "execution_count": 13,
     "metadata": {},
     "output_type": "execute_result"
    }
   ],
   "source": [
    "r[5:0]"
   ]
  },
  {
   "cell_type": "code",
   "execution_count": 16,
   "id": "89b7796f-2af1-4638-b0e9-39a0fa432c62",
   "metadata": {},
   "outputs": [
    {
     "data": {
      "text/plain": [
       "'olleh'"
      ]
     },
     "execution_count": 16,
     "metadata": {},
     "output_type": "execute_result"
    }
   ],
   "source": [
    "r[4::-1]"
   ]
  },
  {
   "cell_type": "code",
   "execution_count": 17,
   "id": "e7796ac2-2def-4b9e-908e-7e3d6ff765c6",
   "metadata": {},
   "outputs": [
    {
     "data": {
      "text/plain": [
       "'hello'"
      ]
     },
     "execution_count": 17,
     "metadata": {},
     "output_type": "execute_result"
    }
   ],
   "source": [
    "r[::]"
   ]
  },
  {
   "cell_type": "code",
   "execution_count": 18,
   "id": "76c439ca-38ee-4ef7-9a21-7195466f475c",
   "metadata": {},
   "outputs": [
    {
     "data": {
      "text/plain": [
       "str"
      ]
     },
     "execution_count": 18,
     "metadata": {},
     "output_type": "execute_result"
    }
   ],
   "source": [
    "type(r)"
   ]
  },
  {
   "cell_type": "code",
   "execution_count": 2,
   "id": "6de922f4-7b7b-42c8-91ed-d856f6c41f9e",
   "metadata": {},
   "outputs": [],
   "source": [
    "s1=\"My name is Ritul Gangwar\""
   ]
  },
  {
   "cell_type": "code",
   "execution_count": 3,
   "id": "5d21140a-4dbf-4427-ad14-12924abde0b3",
   "metadata": {},
   "outputs": [
    {
     "data": {
      "text/plain": [
       "24"
      ]
     },
     "execution_count": 3,
     "metadata": {},
     "output_type": "execute_result"
    }
   ],
   "source": [
    "len(s1)"
   ]
  },
  {
   "cell_type": "code",
   "execution_count": 24,
   "id": "f7ec1b0e-29fc-4a55-9b67-f5e98e3a3bc1",
   "metadata": {},
   "outputs": [
    {
     "data": {
      "text/plain": [
       "9"
      ]
     },
     "execution_count": 24,
     "metadata": {},
     "output_type": "execute_result"
    }
   ],
   "source": [
    "s1.find('s')"
   ]
  },
  {
   "cell_type": "code",
   "execution_count": 25,
   "id": "d2c390d9-b80b-4d18-bd9e-edf51e628089",
   "metadata": {},
   "outputs": [
    {
     "data": {
      "text/plain": [
       "11"
      ]
     },
     "execution_count": 25,
     "metadata": {},
     "output_type": "execute_result"
    }
   ],
   "source": [
    "s1.find('R')"
   ]
  },
  {
   "cell_type": "code",
   "execution_count": 26,
   "id": "717d545f-b5ae-45d6-8996-aafb4ccb8a6d",
   "metadata": {},
   "outputs": [
    {
     "data": {
      "text/plain": [
       "1"
      ]
     },
     "execution_count": 26,
     "metadata": {},
     "output_type": "execute_result"
    }
   ],
   "source": [
    "s1.count('r')"
   ]
  },
  {
   "cell_type": "code",
   "execution_count": 27,
   "id": "76e5fb1f-833d-41df-95c8-307f9734242c",
   "metadata": {},
   "outputs": [
    {
     "data": {
      "text/plain": [
       "3"
      ]
     },
     "execution_count": 27,
     "metadata": {},
     "output_type": "execute_result"
    }
   ],
   "source": [
    "s1.count('a')"
   ]
  },
  {
   "cell_type": "code",
   "execution_count": 28,
   "id": "ee8a6ba4-15b0-4306-ac8b-12883bebee18",
   "metadata": {},
   "outputs": [
    {
     "data": {
      "text/plain": [
       "11"
      ]
     },
     "execution_count": 28,
     "metadata": {},
     "output_type": "execute_result"
    }
   ],
   "source": [
    "s1.find('Ritul')"
   ]
  },
  {
   "cell_type": "code",
   "execution_count": 31,
   "id": "e92c07fe-66d8-42b5-b312-688517249a3a",
   "metadata": {},
   "outputs": [
    {
     "data": {
      "text/plain": [
       "24"
      ]
     },
     "execution_count": 31,
     "metadata": {},
     "output_type": "execute_result"
    }
   ],
   "source": [
    "len(s1)"
   ]
  },
  {
   "cell_type": "code",
   "execution_count": 32,
   "id": "05266462-a6dd-4f9d-afc4-65f41c705f4e",
   "metadata": {},
   "outputs": [],
   "source": [
    "s2=\"heenujjnmnmnwjnnnnnjnj\""
   ]
  },
  {
   "cell_type": "code",
   "execution_count": 33,
   "id": "61acbe30-8df2-4dea-b1a8-2bdc5c9c159f",
   "metadata": {},
   "outputs": [
    {
     "data": {
      "text/plain": [
       "3"
      ]
     },
     "execution_count": 33,
     "metadata": {},
     "output_type": "execute_result"
    }
   ],
   "source": [
    "s2.find('n')"
   ]
  },
  {
   "cell_type": "code",
   "execution_count": 34,
   "id": "4d19dd02-49c3-40ef-86f2-bc812766ceab",
   "metadata": {},
   "outputs": [
    {
     "data": {
      "text/plain": [
       "10"
      ]
     },
     "execution_count": 34,
     "metadata": {},
     "output_type": "execute_result"
    }
   ],
   "source": [
    "s2.count('n')"
   ]
  },
  {
   "cell_type": "code",
   "execution_count": 35,
   "id": "83484730-32a8-4826-86f4-e41292f85bd7",
   "metadata": {},
   "outputs": [
    {
     "data": {
      "text/plain": [
       "22"
      ]
     },
     "execution_count": 35,
     "metadata": {},
     "output_type": "execute_result"
    }
   ],
   "source": [
    "len(s2)"
   ]
  },
  {
   "cell_type": "code",
   "execution_count": 36,
   "id": "e65ad439-f280-42fa-8ebc-31347f172532",
   "metadata": {},
   "outputs": [
    {
     "data": {
      "text/plain": [
       "5"
      ]
     },
     "execution_count": 36,
     "metadata": {},
     "output_type": "execute_result"
    }
   ],
   "source": [
    "s2.count('j')"
   ]
  },
  {
   "cell_type": "code",
   "execution_count": 4,
   "id": "a135c1a3-9fdc-46d1-8736-115d4c9402db",
   "metadata": {},
   "outputs": [
    {
     "data": {
      "text/plain": [
       "'My name is Ritul Gangwar'"
      ]
     },
     "execution_count": 4,
     "metadata": {},
     "output_type": "execute_result"
    }
   ],
   "source": [
    "s1"
   ]
  },
  {
   "cell_type": "code",
   "execution_count": 5,
   "id": "b654f57a-e712-4aa9-b18b-d847a2c8c7e7",
   "metadata": {},
   "outputs": [
    {
     "data": {
      "text/plain": [
       "'My name is Ritul Gangwar'"
      ]
     },
     "execution_count": 5,
     "metadata": {},
     "output_type": "execute_result"
    }
   ],
   "source": [
    "s1"
   ]
  },
  {
   "cell_type": "code",
   "execution_count": 7,
   "id": "83cde4df-0571-4779-888c-4e7e62db0eb1",
   "metadata": {},
   "outputs": [
    {
     "data": {
      "text/plain": [
       "'my name is ritul gangwar'"
      ]
     },
     "execution_count": 7,
     "metadata": {},
     "output_type": "execute_result"
    }
   ],
   "source": [
    "s1.lower()"
   ]
  },
  {
   "cell_type": "code",
   "execution_count": 8,
   "id": "5708c0a3-0917-4de7-9124-b31d2c9cc37d",
   "metadata": {},
   "outputs": [
    {
     "data": {
      "text/plain": [
       "'MY NAME IS RITUL GANGWAR'"
      ]
     },
     "execution_count": 8,
     "metadata": {},
     "output_type": "execute_result"
    }
   ],
   "source": [
    "s1.upper()"
   ]
  },
  {
   "cell_type": "code",
   "execution_count": 28,
   "id": "6988ccf3-a8bd-43b1-b8d1-11d047445c9f",
   "metadata": {},
   "outputs": [
    {
     "data": {
      "text/plain": [
       "'My Name Is Ritul Gangwar'"
      ]
     },
     "execution_count": 28,
     "metadata": {},
     "output_type": "execute_result"
    }
   ],
   "source": [
    "s1.title()\n",
    "##please refer this code for title function.\n"
   ]
  },
  {
   "cell_type": "code",
   "execution_count": 11,
   "id": "f037e77b-f557-47a6-ba6f-a31ee186a05d",
   "metadata": {},
   "outputs": [],
   "source": [
    "s= \"hello\""
   ]
  },
  {
   "cell_type": "code",
   "execution_count": 12,
   "id": "67d07e74-4262-4cf3-bdab-d2a55b6991d6",
   "metadata": {},
   "outputs": [
    {
     "data": {
      "text/plain": [
       "'hello'"
      ]
     },
     "execution_count": 12,
     "metadata": {},
     "output_type": "execute_result"
    }
   ],
   "source": [
    "s"
   ]
  },
  {
   "cell_type": "code",
   "execution_count": 13,
   "id": "f3387609-7c6c-4efb-b0f0-a6ac99ca8b36",
   "metadata": {},
   "outputs": [
    {
     "ename": "TypeError",
     "evalue": "can only concatenate str (not \"int\") to str",
     "output_type": "error",
     "traceback": [
      "\u001b[0;31m---------------------------------------------------------------------------\u001b[0m",
      "\u001b[0;31mTypeError\u001b[0m                                 Traceback (most recent call last)",
      "Cell \u001b[0;32mIn[13], line 1\u001b[0m\n\u001b[0;32m----> 1\u001b[0m \u001b[43ms\u001b[49m\u001b[38;5;241;43m+\u001b[39;49m\u001b[38;5;241;43m1\u001b[39;49m\n",
      "\u001b[0;31mTypeError\u001b[0m: can only concatenate str (not \"int\") to str"
     ]
    }
   ],
   "source": [
    "s+1"
   ]
  },
  {
   "cell_type": "code",
   "execution_count": 14,
   "id": "8dd1fa7d-ee8f-43bc-b218-36229a7c2d12",
   "metadata": {},
   "outputs": [
    {
     "data": {
      "text/plain": [
       "'helloRaunak'"
      ]
     },
     "execution_count": 14,
     "metadata": {},
     "output_type": "execute_result"
    }
   ],
   "source": [
    "s+ \"Raunak\""
   ]
  },
  {
   "cell_type": "code",
   "execution_count": 22,
   "id": "73b69783-61f7-4cc2-b75b-ff2224be812f",
   "metadata": {},
   "outputs": [
    {
     "data": {
      "text/plain": [
       "'hello9'"
      ]
     },
     "execution_count": 22,
     "metadata": {},
     "output_type": "execute_result"
    }
   ],
   "source": [
    "s + str(9)"
   ]
  },
  {
   "cell_type": "code",
   "execution_count": 23,
   "id": "de9a5c41-0606-44ff-b9fb-63ec4b516f9e",
   "metadata": {},
   "outputs": [
    {
     "data": {
      "text/plain": [
       "'hellohellohello'"
      ]
     },
     "execution_count": 23,
     "metadata": {},
     "output_type": "execute_result"
    }
   ],
   "source": [
    "s*3"
   ]
  },
  {
   "cell_type": "code",
   "execution_count": 24,
   "id": "d84dfd16-8e00-4eab-b6eb-9615ef6a9e15",
   "metadata": {},
   "outputs": [
    {
     "ename": "TypeError",
     "evalue": "unsupported operand type(s) for /: 'str' and 'int'",
     "output_type": "error",
     "traceback": [
      "\u001b[0;31m---------------------------------------------------------------------------\u001b[0m",
      "\u001b[0;31mTypeError\u001b[0m                                 Traceback (most recent call last)",
      "Cell \u001b[0;32mIn[24], line 1\u001b[0m\n\u001b[0;32m----> 1\u001b[0m \u001b[43ms\u001b[49m\u001b[38;5;241;43m/\u001b[39;49m\u001b[38;5;241;43m1\u001b[39;49m\n",
      "\u001b[0;31mTypeError\u001b[0m: unsupported operand type(s) for /: 'str' and 'int'"
     ]
    }
   ],
   "source": [
    "s/1"
   ]
  },
  {
   "cell_type": "code",
   "execution_count": 29,
   "id": "7edb4eaf-8f48-4977-ab18-aa928958fbbc",
   "metadata": {},
   "outputs": [],
   "source": [
    "\"I will give you my number\""
   ]
  },
  {
   "cell_type": "code",
   "execution_count": 33,
   "id": "50976843-aef8-4694-9548-3436b0a26f2c",
   "metadata": {},
   "outputs": [
    {
     "data": {
      "text/plain": [
       "'I will not give you my number sjnnsjcnsjkcnjcnmcndmc nmc\\ncsckncnsdckncncc\\nsdcsdcsdc\\nsdc\\nscsccsc\\nc\\ncsc\\ncc\\nc\\nc\\nc'"
      ]
     },
     "execution_count": 33,
     "metadata": {},
     "output_type": "execute_result"
    }
   ],
   "source": [
    "# I will not give you my number sjnnsjcnsjkcnjcnmcndmc nmc\n",
    "# csckncnsdckncncc\n",
    "# sdcsdcsdc\n",
    "# sdc\n",
    "# scsccsc\n",
    "# c\n",
    "# csc\n",
    "# cc\n",
    "# c\n",
    "# c\n",
    "# c\n",
    "\n",
    "\n"
   ]
  },
  {
   "cell_type": "code",
   "execution_count": 31,
   "id": "e6ac95d0-22ec-4d30-bb8a-757d1e060ef6",
   "metadata": {},
   "outputs": [
    {
     "data": {
      "text/plain": [
       "'I Will Give You My Number'"
      ]
     },
     "execution_count": 31,
     "metadata": {},
     "output_type": "execute_result"
    }
   ],
   "source": [
    "t.title()"
   ]
  },
  {
   "cell_type": "code",
   "execution_count": 32,
   "id": "e9af97bf-6f0c-4bde-8e37-bd0143c501bb",
   "metadata": {},
   "outputs": [
    {
     "data": {
      "text/plain": [
       "'I will give you my number'"
      ]
     },
     "execution_count": 32,
     "metadata": {},
     "output_type": "execute_result"
    }
   ],
   "source": [
    "t.capitalize()"
   ]
  },
  {
   "cell_type": "code",
   "execution_count": null,
   "id": "cd1023de-32ee-45eb-9003-f22f6bbdc236",
   "metadata": {},
   "outputs": [],
   "source": []
  }
 ],
 "metadata": {
  "kernelspec": {
   "display_name": "Python 3 (ipykernel)",
   "language": "python",
   "name": "python3"
  },
  "language_info": {
   "codemirror_mode": {
    "name": "ipython",
    "version": 3
   },
   "file_extension": ".py",
   "mimetype": "text/x-python",
   "name": "python",
   "nbconvert_exporter": "python",
   "pygments_lexer": "ipython3",
   "version": "3.10.8"
  }
 },
 "nbformat": 4,
 "nbformat_minor": 5
}
